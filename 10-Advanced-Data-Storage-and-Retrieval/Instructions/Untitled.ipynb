{
 "cells": [
  {
   "cell_type": "code",
   "execution_count": 6,
   "metadata": {},
   "outputs": [
    {
     "name": "stdout",
     "output_type": "stream",
     "text": [
      "0    2012-10-21 09:30\n",
      "1     2019-7-18 12:30\n",
      "2     2008-02-2 10:30\n",
      "3     2010-4-22 09:25\n",
      "4     2019-11-8 02:22\n",
      "dtype: object\n"
     ]
    }
   ],
   "source": [
    "# importing pandas as pd \n",
    "import pandas as pd \n",
    "  \n",
    "# Creating the Series \n",
    "sr = pd.Series(['2012-10-21 09:30', '2019-7-18 12:30', '2008-02-2 10:30', \n",
    "               '2010-4-22 09:25', '2019-11-8 02:22']) \n",
    "print(sr)"
   ]
  },
  {
   "cell_type": "code",
   "execution_count": 5,
   "metadata": {},
   "outputs": [
    {
     "name": "stdout",
     "output_type": "stream",
     "text": [
      "Day 1   2012-10-21 09:30:00\n",
      "Day 2   2019-07-18 12:30:00\n",
      "Day 3   2008-02-02 10:30:00\n",
      "Day 4   2010-04-22 09:25:00\n",
      "Day 5   2019-11-08 02:22:00\n",
      "dtype: datetime64[ns]\n"
     ]
    }
   ],
   "source": [
    "# Creating the index \n",
    "idx = ['Day 1', 'Day 2', 'Day 3', 'Day 4', 'Day 5'] \n",
    "  \n",
    "# set the index \n",
    "sr.index = idx \n",
    "  \n",
    "# Convert the underlying data to datetime  \n",
    "sr = pd.to_datetime(sr) \n",
    "  \n",
    "# Print the series \n",
    "print(sr)"
   ]
  },
  {
   "cell_type": "code",
   "execution_count": null,
   "metadata": {},
   "outputs": [],
   "source": []
  }
 ],
 "metadata": {
  "kernelspec": {
   "display_name": "Python 3",
   "language": "python",
   "name": "python3"
  },
  "language_info": {
   "codemirror_mode": {
    "name": "ipython",
    "version": 3
   },
   "file_extension": ".py",
   "mimetype": "text/x-python",
   "name": "python",
   "nbconvert_exporter": "python",
   "pygments_lexer": "ipython3",
   "version": "3.7.3"
  }
 },
 "nbformat": 4,
 "nbformat_minor": 2
}
